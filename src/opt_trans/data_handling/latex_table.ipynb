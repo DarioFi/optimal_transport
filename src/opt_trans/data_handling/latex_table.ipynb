{
 "cells": [
  {
   "metadata": {},
   "cell_type": "markdown",
   "source": "This notebook is used to extract data for a latex table",
   "id": "a7f2f63f292cc9da"
  },
  {
   "cell_type": "code",
   "id": "initial_id",
   "metadata": {
    "collapsed": true,
    "ExecuteTime": {
     "end_time": "2025-02-16T09:55:14.483356Z",
     "start_time": "2025-02-16T09:55:13.843038Z"
    }
   },
   "source": [
    "from experiment_data import ExperimentData, Database, Query, C\n",
    "\n",
    "folder = \"../table_latex\"\n",
    "\n",
    "db = Database.populate_from_folder(folder)"
   ],
   "outputs": [],
   "execution_count": 2
  },
  {
   "metadata": {
    "ExecuteTime": {
     "end_time": "2025-02-16T09:55:14.493148Z",
     "start_time": "2025-02-16T09:55:14.487626Z"
    }
   },
   "cell_type": "code",
   "source": [
    "d = db.index_on(\"experiment_name\", \"instance_arguments\", \"solver_options\")\n",
    "assert all(len(x) == 40 for x in d.values())"
   ],
   "id": "7a221de475922f5d",
   "outputs": [],
   "execution_count": 3
  },
  {
   "metadata": {
    "ExecuteTime": {
     "end_time": "2025-02-16T09:56:08.921792Z",
     "start_time": "2025-02-16T09:56:08.917524Z"
    }
   },
   "cell_type": "code",
   "source": [
    "for k in d:\n",
    "\n",
    "    if \"cut\" not in k[1]:\n",
    "        continue\n",
    "    print(k)\n",
    "\n",
    "    valid = [x for x in d[k] if x.results[\"termination_condition\"] != \"maxTimeLimit\"]\n",
    "\n",
    "    avg_lb = sum([x.results[\"lower_bound\"] for x in valid]) / len(valid)\n",
    "    print(\"avg lb: \", avg_lb)\n",
    "    #\n",
    "    avg_time = sum([x.results[\"time\"] for x in valid]) / len(valid)\n",
    "    print(\"avg time: \", avg_time)\n",
    "\n",
    "    print(\"Number of valid runs: \", len(valid), \"/ 40\")\n"
   ],
   "id": "360814e08ebeb014",
   "outputs": [
    {
     "name": "stdout",
     "output_type": "stream",
     "text": [
      "('experiment_name', 'full_solutions_with_cuts', 'instance_arguments', frozenset({('alpha', 0), ('n', 4)}), 'solver_options', 'maxtime=300')\n",
      "avg lb:  1.0872072177583472\n",
      "avg time:  0.205\n",
      "Number of valid runs:  40 / 40\n",
      "('experiment_name', 'full_solutions_with_cuts', 'instance_arguments', frozenset({('n', 6), ('alpha', 0)}), 'solver_options', 'maxtime=300')\n",
      "avg lb:  1.5382267436539192\n",
      "avg time:  6.881749999999999\n",
      "Number of valid runs:  40 / 40\n",
      "('experiment_name', 'full_solutions_with_cuts', 'instance_arguments', frozenset({('alpha', 0), ('n', 5)}), 'solver_options', 'maxtime=300')\n",
      "avg lb:  1.3298523867274183\n",
      "avg time:  1.3561538461538463\n",
      "Number of valid runs:  39 / 40\n",
      "('experiment_name', 'full_solutions_with_cuts_preprocessing_only', 'instance_arguments', frozenset({('n', 6), ('alpha', 0)}), 'solver_options', 'MaxIter=1 maxtime=300')\n",
      "avg lb:  0.9756270948228296\n",
      "avg time:  1.62675\n",
      "Number of valid runs:  40 / 40\n",
      "('experiment_name', 'full_solutions_with_cuts_preprocessing_only', 'instance_arguments', frozenset({('alpha', 0), ('n', 4)}), 'solver_options', 'MaxIter=1 maxtime=300')\n",
      "avg lb:  1.0145564851282984\n",
      "avg time:  0.14950000000000002\n",
      "Number of valid runs:  40 / 40\n",
      "('experiment_name', 'full_solutions_with_cuts_preprocessing_only', 'instance_arguments', frozenset({('alpha', 0), ('n', 5)}), 'solver_options', 'MaxIter=1 maxtime=300')\n",
      "avg lb:  1.0196775600217676\n",
      "avg time:  0.57225\n",
      "Number of valid runs:  40 / 40\n"
     ]
    }
   ],
   "execution_count": 6
  },
  {
   "metadata": {},
   "cell_type": "code",
   "outputs": [],
   "execution_count": null,
   "source": "",
   "id": "d945ab38ed5bc1bf"
  }
 ],
 "metadata": {
  "kernelspec": {
   "display_name": "Python 3",
   "language": "python",
   "name": "python3"
  },
  "language_info": {
   "codemirror_mode": {
    "name": "ipython",
    "version": 2
   },
   "file_extension": ".py",
   "mimetype": "text/x-python",
   "name": "python",
   "nbconvert_exporter": "python",
   "pygments_lexer": "ipython2",
   "version": "2.7.6"
  }
 },
 "nbformat": 4,
 "nbformat_minor": 5
}
